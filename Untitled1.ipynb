{
 "cells": [
  {
   "cell_type": "code",
   "execution_count": 60,
   "metadata": {},
   "outputs": [],
   "source": [
    "import requests\n",
    "import pandas as pd\n",
    "import os\n",
    "import time\n",
    "import argparse\n",
    "import shutil\n",
    "import datetime as dt\n",
    "\n",
    "from selenium import webdriver\n",
    "from webdriver_manager.chrome import ChromeDriverManager\n",
    "from selenium.webdriver.common.by import By\n",
    "from selenium.webdriver.common.action_chains import ActionChains\n",
    "\n",
    "from datetime import date, timedelta\n",
    "from datetime import datetime"
   ]
  },
  {
   "cell_type": "code",
   "execution_count": 61,
   "metadata": {},
   "outputs": [],
   "source": [
    "website = \"https://www.sgx.com/research-education/derivatives\""
   ]
  },
  {
   "cell_type": "code",
   "execution_count": 63,
   "metadata": {},
   "outputs": [
    {
     "name": "stdout",
     "output_type": "stream",
     "text": [
      "https://www.sgx.com/research-education/derivatives\n"
     ]
    }
   ],
   "source": [
    "print(website)"
   ]
  },
  {
   "cell_type": "code",
   "execution_count": 62,
   "metadata": {},
   "outputs": [
    {
     "name": "stderr",
     "output_type": "stream",
     "text": [
      "/home/ashley/anaconda3/envs/dytech/lib/python3.6/site-packages/ipykernel_launcher.py:10: DeprecationWarning: use options instead of chrome_options\n",
      "  # Remove the CWD from sys.path while we load stuff.\n"
     ]
    }
   ],
   "source": [
    "chrome_options = webdriver.ChromeOptions()\n",
    "download_dir = os.getcwd() + '/Downloads'\n",
    "preferences = {\"download.default_directory\": download_dir ,\n",
    "            \"directory_upgrade\": True,\n",
    "            \"safebrowsing.enabled\": True }\n",
    "chrome_options.add_experimental_option(\"prefs\", preferences)\n",
    "\n",
    "try:\n",
    "    PATH = './chromedriver'\n",
    "    driver = webdriver.Chrome(executable_path=PATH,chrome_options=chrome_options)\n",
    "except:\n",
    "    print('Downloading correct webdriver version to run driver')\n",
    "    driver = webdriver.Chrome(ChromeDriverManager().install(),chrome_options=chrome_options)\n",
    "\n",
    "driver.get(website)\n",
    "time.sleep(5)"
   ]
  },
  {
   "cell_type": "code",
   "execution_count": 54,
   "metadata": {},
   "outputs": [],
   "source": [
    "\n",
    "#initialize elements on website \n",
    "data_type = driver.find_element_by_name('type')\n",
    "download_button = driver.find_elements_by_tag_name('button')\n",
    "date_type = driver.find_element_by_name('date')\n"
   ]
  },
  {
   "cell_type": "code",
   "execution_count": 55,
   "metadata": {},
   "outputs": [],
   "source": [
    "date_type.click()\n",
    "time.sleep(5)\n",
    "date_options = driver.find_elements_by_class_name('rows-container')\n",
    "date_available = date_options[0].text\n",
    "date_avail = date_available.split('\\n') #list of date strings pulled from sgx website\n",
    "date_type.click()"
   ]
  },
  {
   "cell_type": "code",
   "execution_count": 56,
   "metadata": {},
   "outputs": [],
   "source": [
    "date = '12 Aug 2020'"
   ]
  },
  {
   "cell_type": "code",
   "execution_count": 57,
   "metadata": {},
   "outputs": [
    {
     "data": {
      "text/plain": [
       "['12 Aug 2020', '11 Aug 2020', '10 Aug 2020', '07 Aug 2020', '06 Aug 2020']"
      ]
     },
     "execution_count": 57,
     "metadata": {},
     "output_type": "execute_result"
    }
   ],
   "source": [
    "date_avail"
   ]
  },
  {
   "cell_type": "code",
   "execution_count": 58,
   "metadata": {},
   "outputs": [],
   "source": [
    "date_idx = date_avail.index(date)\n",
    "date_type.click()\n",
    "time.sleep(2)"
   ]
  },
  {
   "cell_type": "code",
   "execution_count": 59,
   "metadata": {},
   "outputs": [],
   "source": [
    "date_element = driver.find_elements_by_name('sgx-select-picker-value')\n",
    "date_element[date_idx].click()"
   ]
  },
  {
   "cell_type": "code",
   "execution_count": null,
   "metadata": {},
   "outputs": [],
   "source": []
  }
 ],
 "metadata": {
  "kernelspec": {
   "display_name": "Python 3",
   "language": "python",
   "name": "python3"
  },
  "language_info": {
   "codemirror_mode": {
    "name": "ipython",
    "version": 3
   },
   "file_extension": ".py",
   "mimetype": "text/x-python",
   "name": "python",
   "nbconvert_exporter": "python",
   "pygments_lexer": "ipython3",
   "version": "3.6.11"
  }
 },
 "nbformat": 4,
 "nbformat_minor": 4
}
