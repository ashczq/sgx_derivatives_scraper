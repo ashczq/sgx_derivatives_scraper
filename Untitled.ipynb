{
 "cells": [
  {
   "cell_type": "code",
   "execution_count": 1,
   "metadata": {},
   "outputs": [],
   "source": [
    "import requests"
   ]
  },
  {
   "cell_type": "code",
   "execution_count": 80,
   "metadata": {},
   "outputs": [],
   "source": [
    "url = 'https://links.sgx.com/1.0.0/derivatives-historical/4700/WEBPXTICK_DT.zip'\n",
    "r = requests.get(url)"
   ]
  },
  {
   "cell_type": "code",
   "execution_count": 84,
   "metadata": {},
   "outputs": [],
   "source": [
    "with open('./Downloads/test', 'wb') as f:\n",
    "    f.write(r.content)"
   ]
  },
  {
   "cell_type": "code",
   "execution_count": 7,
   "metadata": {},
   "outputs": [],
   "source": [
    "with open('./Downloads/WEBPXTICK_DT.zip', 'wb') as f:\n",
    "    f.write(r.content)"
   ]
  },
  {
   "cell_type": "code",
   "execution_count": null,
   "metadata": {},
   "outputs": [],
   "source": [
    "https://links.sgx.com/1.0.0/derivatives-historical/4697/WEBPXTICK_DT.zip"
   ]
  },
  {
   "cell_type": "code",
   "execution_count": 34,
   "metadata": {},
   "outputs": [],
   "source": [
    "import bs4\n",
    "import requests\n",
    "import urllib\n",
    "import random\n",
    "import pandas as pd\n",
    "\n",
    "from urllib.request import urlopen as uReq\n",
    "from bs4 import BeautifulSoup as soup\n",
    "from datetime import date\n",
    "from datetime import datetime"
   ]
  },
  {
   "cell_type": "code",
   "execution_count": 9,
   "metadata": {},
   "outputs": [],
   "source": [
    "url = 'https://www.mom.gov.sg/employment-practices/public-holidays'\n",
    "user_agent = 'Mozilla/5.0 (Macintosh; Intel Mac OS X 10_9_3) AppleWebKit/537.36 (KHTML, like Gecko) Chrome/35.0.1916.47 Safari/537.36'\n",
    "request = urllib.request.Request(url,headers={'User-Agent': user_agent})\n",
    "response = urllib.request.urlopen(request)"
   ]
  },
  {
   "cell_type": "code",
   "execution_count": 10,
   "metadata": {},
   "outputs": [],
   "source": [
    "page_soup = soup(response,'html.parser')"
   ]
  },
  {
   "cell_type": "code",
   "execution_count": 25,
   "metadata": {},
   "outputs": [],
   "source": [
    "dates = page_soup.findAll(\"span\", {\"class\":'text-date-mobile'})"
   ]
  },
  {
   "cell_type": "code",
   "execution_count": 19,
   "metadata": {},
   "outputs": [
    {
     "data": {
      "text/plain": [
       "['1 January 2019', ' Tuesday']"
      ]
     },
     "execution_count": 19,
     "metadata": {},
     "output_type": "execute_result"
    }
   ],
   "source": [
    "dates[0].text.split(',')"
   ]
  },
  {
   "cell_type": "code",
   "execution_count": null,
   "metadata": {},
   "outputs": [],
   "source": []
  },
  {
   "cell_type": "code",
   "execution_count": 24,
   "metadata": {},
   "outputs": [
    {
     "ename": "TypeError",
     "evalue": "'NoneType' object is not callable",
     "output_type": "error",
     "traceback": [
      "\u001b[0;31m---------------------------------------------------------------------------\u001b[0m",
      "\u001b[0;31mTypeError\u001b[0m                                 Traceback (most recent call last)",
      "\u001b[0;32m<ipython-input-24-d8af16659567>\u001b[0m in \u001b[0;36m<module>\u001b[0;34m\u001b[0m\n\u001b[0;32m----> 1\u001b[0;31m \u001b[0mdates\u001b[0m\u001b[0;34m[\u001b[0m\u001b[0;36m0\u001b[0m\u001b[0;34m]\u001b[0m\u001b[0;34m.\u001b[0m\u001b[0msplit\u001b[0m\u001b[0;34m(\u001b[0m\u001b[0;34m','\u001b[0m\u001b[0;34m)\u001b[0m\u001b[0;34m\u001b[0m\u001b[0;34m\u001b[0m\u001b[0m\n\u001b[0m",
      "\u001b[0;31mTypeError\u001b[0m: 'NoneType' object is not callable"
     ]
    }
   ],
   "source": [
    "dates[0].split(',')"
   ]
  },
  {
   "cell_type": "code",
   "execution_count": 16,
   "metadata": {},
   "outputs": [
    {
     "data": {
      "text/plain": [
       "'5 February 2019 - 6 February 2019, Tuesday - Wednesday'"
      ]
     },
     "execution_count": 16,
     "metadata": {},
     "output_type": "execute_result"
    }
   ],
   "source": [
    "dates[1].text"
   ]
  },
  {
   "cell_type": "code",
   "execution_count": 64,
   "metadata": {},
   "outputs": [
    {
     "data": {
      "text/plain": [
       "[<span class=\"text-date-mobile\">1 January 2019, Tuesday</span>,\n",
       " <span class=\"text-date-mobile\">5 February 2019 - 6 February 2019, Tuesday - Wednesday</span>,\n",
       " <span class=\"text-date-mobile\">19 April 2019, Friday</span>,\n",
       " <span class=\"text-date-mobile\">1 May 2019, Wednesday</span>,\n",
       " <span class=\"text-date-mobile\">19 May 2019, Sunday</span>,\n",
       " <span class=\"text-date-mobile\">5 June 2019, Wednesday</span>,\n",
       " <span class=\"text-date-mobile\">9 August 2019, Friday</span>,\n",
       " <span class=\"text-date-mobile\">11 August 2019, Sunday</span>,\n",
       " <span class=\"text-date-mobile\">27 October 2019, Sunday</span>,\n",
       " <span class=\"text-date-mobile\">25 December 2019, Wednesday</span>,\n",
       " <span class=\"text-date-mobile\">1 January 2020, Wednesday</span>,\n",
       " <span class=\"text-date-mobile\">25 January 2020 - 26 January 2020, Saturday - Sunday</span>,\n",
       " <span class=\"text-date-mobile\">10 April 2020, Friday</span>,\n",
       " <span class=\"text-date-mobile\">1 May 2020, Friday</span>,\n",
       " <span class=\"text-date-mobile\">7 May 2020, Thursday</span>,\n",
       " <span class=\"text-date-mobile\">24 May 2020, Sunday</span>,\n",
       " <span class=\"text-date-mobile\">10 July 2020, Friday</span>,\n",
       " <span class=\"text-date-mobile\">31 July 2020, Friday</span>,\n",
       " <span class=\"text-date-mobile\">9 August 2020, Sunday</span>,\n",
       " <span class=\"text-date-mobile\">14 November 2020, Saturday</span>,\n",
       " <span class=\"text-date-mobile\">25 December 2020, Friday</span>,\n",
       " <span class=\"text-date-mobile\">1 January 2021, Friday</span>,\n",
       " <span class=\"text-date-mobile\">12 February 2021 - 13 February 2021, Friday - Saturday</span>,\n",
       " <span class=\"text-date-mobile\">2 April 2021, Friday</span>,\n",
       " <span class=\"text-date-mobile\">1 May 2021, Saturday</span>,\n",
       " <span class=\"text-date-mobile\">13 May 2021, Thursday</span>,\n",
       " <span class=\"text-date-mobile\">26 May 2021, Wednesday</span>,\n",
       " <span class=\"text-date-mobile\">20 July 2021, Tuesday</span>,\n",
       " <span class=\"text-date-mobile\">9 August 2021, Monday</span>,\n",
       " <span class=\"text-date-mobile\">4 November 2021, Thursday</span>,\n",
       " <span class=\"text-date-mobile\">25 December 2021, Saturday</span>]"
      ]
     },
     "execution_count": 64,
     "metadata": {},
     "output_type": "execute_result"
    }
   ],
   "source": [
    "dates"
   ]
  },
  {
   "cell_type": "code",
   "execution_count": 68,
   "metadata": {},
   "outputs": [
    {
     "data": {
      "text/plain": [
       "['5 February 2019 ', ' 6 February 2019']"
      ]
     },
     "execution_count": 68,
     "metadata": {},
     "output_type": "execute_result"
    }
   ],
   "source": [
    "dates[1].text.split(',')[0].split('-')"
   ]
  },
  {
   "cell_type": "code",
   "execution_count": 70,
   "metadata": {},
   "outputs": [],
   "source": [
    "formatted_dates = []\n",
    "for date in dates:\n",
    "    append_dates = date.text.split(',')[0].split('-')\n",
    "    for item in append_dates:\n",
    "        if item[0] == ' ':\n",
    "            format_item = datetime.strptime(item,\" %d %B %Y\").date()\n",
    "            formatted_dates.append(format_item)\n",
    "        elif item[-1] == ' ':\n",
    "            format_item = datetime.strptime(item,\"%d %B %Y \").date()\n",
    "            formatted_dates.append(format_item)\n",
    "        else:\n",
    "            format_item = datetime.strptime(item,\"%d %B %Y\").date()\n",
    "            formatted_dates.append(format_item)"
   ]
  },
  {
   "cell_type": "code",
   "execution_count": 72,
   "metadata": {},
   "outputs": [],
   "source": [
    "my_dict = {'Holidays': formatted_dates}"
   ]
  },
  {
   "cell_type": "code",
   "execution_count": 73,
   "metadata": {},
   "outputs": [],
   "source": [
    "df = pd.DataFrame(my_dict)"
   ]
  },
  {
   "cell_type": "code",
   "execution_count": 77,
   "metadata": {},
   "outputs": [],
   "source": [
    "df.to_csv('./Holidays.csv',index=False)"
   ]
  },
  {
   "cell_type": "code",
   "execution_count": 71,
   "metadata": {},
   "outputs": [
    {
     "data": {
      "text/plain": [
       "[datetime.date(2019, 1, 1),\n",
       " datetime.date(2019, 2, 5),\n",
       " datetime.date(2019, 2, 6),\n",
       " datetime.date(2019, 4, 19),\n",
       " datetime.date(2019, 5, 1),\n",
       " datetime.date(2019, 5, 19),\n",
       " datetime.date(2019, 6, 5),\n",
       " datetime.date(2019, 8, 9),\n",
       " datetime.date(2019, 8, 11),\n",
       " datetime.date(2019, 10, 27),\n",
       " datetime.date(2019, 12, 25),\n",
       " datetime.date(2020, 1, 1),\n",
       " datetime.date(2020, 1, 25),\n",
       " datetime.date(2020, 1, 26),\n",
       " datetime.date(2020, 4, 10),\n",
       " datetime.date(2020, 5, 1),\n",
       " datetime.date(2020, 5, 7),\n",
       " datetime.date(2020, 5, 24),\n",
       " datetime.date(2020, 7, 10),\n",
       " datetime.date(2020, 7, 31),\n",
       " datetime.date(2020, 8, 9),\n",
       " datetime.date(2020, 11, 14),\n",
       " datetime.date(2020, 12, 25),\n",
       " datetime.date(2021, 1, 1),\n",
       " datetime.date(2021, 2, 12),\n",
       " datetime.date(2021, 2, 13),\n",
       " datetime.date(2021, 4, 2),\n",
       " datetime.date(2021, 5, 1),\n",
       " datetime.date(2021, 5, 13),\n",
       " datetime.date(2021, 5, 26),\n",
       " datetime.date(2021, 7, 20),\n",
       " datetime.date(2021, 8, 9),\n",
       " datetime.date(2021, 11, 4),\n",
       " datetime.date(2021, 12, 25)]"
      ]
     },
     "execution_count": 71,
     "metadata": {},
     "output_type": "execute_result"
    }
   ],
   "source": [
    "formatted_dates"
   ]
  },
  {
   "cell_type": "code",
   "execution_count": 85,
   "metadata": {},
   "outputs": [],
   "source": [
    "url = 'https://www.mom.gov.sg/employment-practices/public-holidays'"
   ]
  },
  {
   "cell_type": "code",
   "execution_count": 86,
   "metadata": {},
   "outputs": [
    {
     "data": {
      "text/plain": [
       "'employment-practices'"
      ]
     },
     "execution_count": 86,
     "metadata": {},
     "output_type": "execute_result"
    }
   ],
   "source": [
    "url.split('/')[-2]"
   ]
  },
  {
   "cell_type": "code",
   "execution_count": null,
   "metadata": {},
   "outputs": [],
   "source": []
  }
 ],
 "metadata": {
  "kernelspec": {
   "display_name": "Python 3",
   "language": "python",
   "name": "python3"
  },
  "language_info": {
   "codemirror_mode": {
    "name": "ipython",
    "version": 3
   },
   "file_extension": ".py",
   "mimetype": "text/x-python",
   "name": "python",
   "nbconvert_exporter": "python",
   "pygments_lexer": "ipython3",
   "version": "3.6.11"
  }
 },
 "nbformat": 4,
 "nbformat_minor": 4
}
